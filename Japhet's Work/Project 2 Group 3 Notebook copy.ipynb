{
 "cells": [
  {
   "cell_type": "code",
   "execution_count": 2,
   "id": "d9260084",
   "metadata": {},
   "outputs": [
    {
     "ename": "ModuleNotFoundError",
     "evalue": "No module named 'config'",
     "output_type": "error",
     "traceback": [
      "\u001b[0;31m---------------------------------------------------------------------------\u001b[0m",
      "\u001b[0;31mModuleNotFoundError\u001b[0m                       Traceback (most recent call last)",
      "Input \u001b[0;32mIn [2]\u001b[0m, in \u001b[0;36m<cell line: 7>\u001b[0;34m()\u001b[0m\n\u001b[1;32m      5\u001b[0m \u001b[38;5;28;01mimport\u001b[39;00m \u001b[38;5;21;01mrequests\u001b[39;00m\n\u001b[1;32m      6\u001b[0m \u001b[38;5;28;01mimport\u001b[39;00m \u001b[38;5;21;01mmatplotlib\u001b[39;00m\u001b[38;5;21;01m.\u001b[39;00m\u001b[38;5;21;01mpyplot\u001b[39;00m \u001b[38;5;28;01mas\u001b[39;00m \u001b[38;5;21;01mplt\u001b[39;00m\n\u001b[0;32m----> 7\u001b[0m \u001b[38;5;28;01mfrom\u001b[39;00m \u001b[38;5;21;01mconfig\u001b[39;00m \u001b[38;5;28;01mimport\u001b[39;00m key\n",
      "\u001b[0;31mModuleNotFoundError\u001b[0m: No module named 'config'"
     ]
    }
   ],
   "source": [
    "from splinter import Browser\n",
    "from bs4 import BeautifulSoup\n",
    "from webdriver_manager.chrome import ChromeDriverManager\n",
    "import pandas as pd\n",
    "import requests\n",
    "import matplotlib.pyplot as plt\n",
    "from config import key"
   ]
  },
  {
   "cell_type": "code",
   "execution_count": 3,
   "id": "1eca29fc",
   "metadata": {},
   "outputs": [],
   "source": [
    "# Create a browser for web scrapping.\n",
    "\n",
    "executable_path = {'executable_path': ChromeDriverManager().install()}\n",
    "browser = Browser('chrome', **executable_path, headless=False)"
   ]
  },
  {
   "cell_type": "code",
   "execution_count": 5,
   "id": "3da9b3e1",
   "metadata": {},
   "outputs": [
    {
     "ename": "AttributeError",
     "evalue": "'function' object has no attribute 'visit'",
     "output_type": "error",
     "traceback": [
      "\u001b[0;31m---------------------------------------------------------------------------\u001b[0m",
      "\u001b[0;31mAttributeError\u001b[0m                            Traceback (most recent call last)",
      "Input \u001b[0;32mIn [5]\u001b[0m, in \u001b[0;36m<cell line: 4>\u001b[0;34m()\u001b[0m\n\u001b[1;32m      1\u001b[0m \u001b[38;5;66;03m# Use browser to visit the iMDB Top 250 web page.\u001b[39;00m\n\u001b[1;32m      3\u001b[0m url \u001b[38;5;241m=\u001b[39m \u001b[38;5;124m'\u001b[39m\u001b[38;5;124mhttps://www.imdb.com/chart/top?sort=ir,desc&mode=simple&page=1\u001b[39m\u001b[38;5;124m'\u001b[39m\n\u001b[0;32m----> 4\u001b[0m \u001b[43mBrowser\u001b[49m\u001b[38;5;241;43m.\u001b[39;49m\u001b[43mvisit\u001b[49m(url)\n",
      "\u001b[0;31mAttributeError\u001b[0m: 'function' object has no attribute 'visit'"
     ]
    }
   ],
   "source": [
    "# Use browser to visit the iMDB Top 250 web page.\n",
    "\n",
    "url = 'https://www.imdb.com/chart/top?sort=ir,desc&mode=simple&page=1'\n",
    "Browser.visit(url)"
   ]
  },
  {
   "cell_type": "code",
   "execution_count": null,
   "id": "cd38655c",
   "metadata": {},
   "outputs": [],
   "source": [
    "# Soupify the web page.\n",
    "\n",
    "html = browser.html\n",
    "imdb = BeautifulSoup(html)\n",
    "type(imdb)"
   ]
  },
  {
   "cell_type": "code",
   "execution_count": null,
   "id": "197a7ca0",
   "metadata": {},
   "outputs": [],
   "source": [
    "# Find the table list of top 250 movies.\n",
    "\n",
    "top_movies = imdb.find(\"table\", {\"data-caller-name\":\"chart-top250movie\"}).find(\"tbody\").find_all(\"tr\")\n",
    "len(top_movies)"
   ]
  },
  {
   "cell_type": "code",
   "execution_count": null,
   "id": "b7630d6b",
   "metadata": {},
   "outputs": [],
   "source": [
    "# Test scrape to find the Movie ID for the first movie in the Top 250 list.\n",
    "\n",
    "test = top_movies[0]\n",
    "movie_id1 = test.find(\"td\", {\"class\": \"watchlistColumn\"}).find(\"div\")[\"data-tconst\"]\n",
    "movie_id1"
   ]
  },
  {
   "cell_type": "code",
   "execution_count": null,
   "id": "5d7d103f",
   "metadata": {},
   "outputs": [],
   "source": [
    "# Web scrapping loop to extract movie titles and corresponding movie_id.\n",
    "\n",
    "top_250_ids = []\n",
    "\n",
    "for movie in top_movies:\n",
    "    title = movie.find(\"td\", {\"class\": \"titleColumn\"}).find(\"a\").text\n",
    "    movie_id = movie.find(\"td\", {\"class\": \"watchlistColumn\"}).find(\"div\")[\"data-tconst\"]\n",
    "    \n",
    "    row = {}\n",
    "    row[\"title\"] = title\n",
    "    row[\"movie_id\"] = movie_id\n",
    "    top_250_ids.append(row)\n",
    "    \n",
    "movie_ids_df = pd.DataFrame(top_250_ids)\n",
    "movie_ids_df"
   ]
  },
  {
   "cell_type": "code",
   "execution_count": null,
   "id": "881208d9",
   "metadata": {},
   "outputs": [],
   "source": [
    "browser.quit()"
   ]
  },
  {
   "cell_type": "code",
   "execution_count": null,
   "id": "aa84b91a",
   "metadata": {},
   "outputs": [],
   "source": [
    "# Using the OMDB API to acquire movie metadata. Initial test with The Shawshank Redemption movie ID.\n",
    "\n",
    "api_url = f\"http://www.omdbapi.com/?apikey={key}&i=tt0111161\"\n",
    "response = requests.get(api_url)\n",
    "response.json()"
   ]
  },
  {
   "cell_type": "code",
   "execution_count": null,
   "id": "3df8bcd8",
   "metadata": {},
   "outputs": [],
   "source": [
    "# Another API test to look at getting single attributes of an individual movie.\n",
    "\n",
    "id_code = \"tt0111161\"\n",
    "api_url = f\"http://www.omdbapi.com/?apikey={key}&i={id_code}\"\n",
    "response = requests.get(api_url)\n",
    "movie_title = response.json().get(\"Title\")\n",
    "year_released = response.json().get(\"Year\")\n",
    "rating = response.json().get(\"Rated\")\n",
    "genre = response.json().get(\"Genre\")\n",
    "imdbRating = response.json().get(\"imdbRating\")\n",
    "Metascore = response.json().get(\"Metascore\")\n",
    "release_date = response.json().get(\"Released\")\n",
    "country = response.json().get(\"Country\")\n",
    "language = response.json().get(\"Language\")\n",
    "director = response.json().get(\"Director\")\n",
    "actors = response.json().get(\"Actors\")\n",
    "imdbVotes = response.json().get(\"imdbVotes\")\n",
    "earnings = response.json().get(\"BoxOffice\")\n",
    "imdbID = response.json().get(\"imdbID\")\n",
    "\n",
    "print(movie_title)\n",
    "print(year_released)\n",
    "print(rating)\n",
    "print(genre)\n",
    "print(imdbRating)\n",
    "print(Metascore)\n",
    "print(release_date)\n",
    "print(country)\n",
    "print(language)\n",
    "print(director)\n",
    "print(actors)\n",
    "print(imdbVotes)\n",
    "print(earnings)\n",
    "print(imdbID)"
   ]
  },
  {
   "cell_type": "code",
   "execution_count": null,
   "id": "dfbf7da5",
   "metadata": {},
   "outputs": [],
   "source": [
    "movie_id_list = movie_ids_df['movie_id'].tolist()\n",
    "len(movie_id_list)"
   ]
  },
  {
   "cell_type": "code",
   "execution_count": null,
   "id": "5305d31f",
   "metadata": {},
   "outputs": [],
   "source": [
    "# Loop to extract all the metadata attributes associated with all of the top 250 movies, and turn into dataframe. \n",
    "\n",
    "rows = []\n",
    "\n",
    "for x in movie_id_list:\n",
    "    api_url = f\"http://www.omdbapi.com/?apikey={key}&i=\" + x\n",
    "    response = requests.get(api_url)\n",
    "    data = response.json()\n",
    "    \n",
    "    rows.append(data)\n",
    "    \n",
    "final_df = pd.DataFrame(rows)\n",
    "final_df"
   ]
  },
  {
   "cell_type": "code",
   "execution_count": null,
   "id": "afaa5994",
   "metadata": {},
   "outputs": [],
   "source": [
    "pd.set_option('display.max_columns', None)\n",
    "final_df"
   ]
  },
  {
   "cell_type": "code",
   "execution_count": null,
   "id": "da109a4b",
   "metadata": {},
   "outputs": [],
   "source": [
    "# Remove extraneous columns.\n",
    "\n",
    "clean_df1 = final_df.drop(columns=['Plot', 'Poster', 'Type', 'DVD', 'Production', 'Website', 'Response'])\n",
    "clean_df1.head()"
   ]
  },
  {
   "cell_type": "code",
   "execution_count": null,
   "id": "9e580ece",
   "metadata": {},
   "outputs": [],
   "source": [
    "clean_df1 = clean_df1.replace(\"N/A\", 0)\n",
    "clean_df1.head()"
   ]
  },
  {
   "cell_type": "code",
   "execution_count": null,
   "id": "07702a69",
   "metadata": {},
   "outputs": [],
   "source": [
    "# Convert data to proper types.\n",
    "\n",
    "clean_df1['Year'] = clean_df1['Year'].astype(int)\n",
    "clean_df1['Metascore'] = clean_df1['Metascore'].astype(float)\n",
    "clean_df1['imdbRating'] = clean_df1['imdbRating'].astype(float)\n",
    "clean_df1['imdbVotes'] = clean_df1['imdbVotes'].str.replace(\",\", \"\")\n",
    "clean_df1['imdbVotes'] = clean_df1['imdbVotes'].astype(int)\n",
    "clean_df1['Runtime'] = clean_df1['Runtime'].str.replace(\" min\", \"\")\n",
    "clean_df1['Runtime'] = clean_df1['Runtime'].astype(int)\n",
    "\n",
    "clean_df1.head()"
   ]
  },
  {
   "cell_type": "code",
   "execution_count": null,
   "id": "1bf143fa",
   "metadata": {},
   "outputs": [],
   "source": [
    "# More data conversions.\n",
    "clean_df1.rename(columns = {'Runtime':'Runtime_mins'}, inplace = True)\n",
    "clean_df1.head()"
   ]
  },
  {
   "cell_type": "code",
   "execution_count": null,
   "id": "493ec6c4",
   "metadata": {},
   "outputs": [],
   "source": [
    "clean_df1.rename(columns = {'Actors':'Top_Billed'}, inplace = True)\n",
    "clean_df1.head()"
   ]
  },
  {
   "cell_type": "code",
   "execution_count": null,
   "id": "e95f8183",
   "metadata": {},
   "outputs": [],
   "source": [
    "clean_df1['BoxOffice'] = clean_df1['BoxOffice'].str.replace(\"$\", \"\")\n",
    "clean_df1['BoxOffice'] = clean_df1['BoxOffice'].str.replace(\",\", \"\")\n",
    "clean_df1['BoxOffice'] = clean_df1['BoxOffice'].astype(float)\n",
    "clean_df1.head()"
   ]
  },
  {
   "cell_type": "code",
   "execution_count": null,
   "id": "13d42a0b",
   "metadata": {},
   "outputs": [],
   "source": [
    "clean_df1.info()"
   ]
  },
  {
   "cell_type": "code",
   "execution_count": null,
   "id": "d2539f3c",
   "metadata": {
    "scrolled": false
   },
   "outputs": [],
   "source": [
    "# Adding imdbRank as new column for the Top 250 IMDB movies.\n",
    "\n",
    "clean_df1.insert(0, 'imdbRank', range(1, 1 + len(clean_df1)))\n",
    "clean_df1"
   ]
  },
  {
   "cell_type": "code",
   "execution_count": null,
   "id": "0e379ca7",
   "metadata": {},
   "outputs": [],
   "source": [
    "# clean_df1.to_csv(\"IMDB_Cleaned_1.csv\", encoding='utf-8', index=False)"
   ]
  },
  {
   "cell_type": "code",
   "execution_count": null,
   "id": "d7473c8a",
   "metadata": {},
   "outputs": [],
   "source": [
    "clean_df1[\"Genre\"] = clean_df1.Genre.apply(lambda x: x.split(\",\")[0])"
   ]
  },
  {
   "cell_type": "code",
   "execution_count": null,
   "id": "ac078eea",
   "metadata": {},
   "outputs": [],
   "source": [
    "clean_df1[\"Language\"] = clean_df1.Language.apply(lambda x: x.split(\",\")[0])\n",
    "clean_df1[\"Country\"] = clean_df1.Country.apply(lambda x: x.split(\",\")[0])\n",
    "clean_df1.head()"
   ]
  },
  {
   "cell_type": "code",
   "execution_count": null,
   "id": "b0e74a7c",
   "metadata": {
    "scrolled": false
   },
   "outputs": [],
   "source": [
    "clean_df1.Language.value_counts()"
   ]
  },
  {
   "cell_type": "code",
   "execution_count": null,
   "id": "de86378a",
   "metadata": {},
   "outputs": [],
   "source": [
    "clean_df1 = clean_df1.drop(columns=['Ratings'])\n",
    "clean_df1.head()"
   ]
  },
  {
   "cell_type": "code",
   "execution_count": null,
   "id": "5105d57b",
   "metadata": {},
   "outputs": [],
   "source": [
    "# clean_df1.to_csv(\"IMDB_Cleaned_1.csv\", encoding='utf-8', index=False)"
   ]
  },
  {
   "cell_type": "code",
   "execution_count": null,
   "id": "769cd8e5",
   "metadata": {},
   "outputs": [],
   "source": [
    "clean_df1.info()"
   ]
  },
  {
   "cell_type": "code",
   "execution_count": null,
   "id": "306c8fcb",
   "metadata": {},
   "outputs": [],
   "source": [
    "clean_df1 = clean_df1.drop(columns=['Released'])\n",
    "clean_df1.head()"
   ]
  },
  {
   "cell_type": "code",
   "execution_count": null,
   "id": "07766423",
   "metadata": {},
   "outputs": [],
   "source": [
    "# clean_df1.to_csv(\"IMDB_Cleaned_2.csv\", encoding='utf-8', index=False)"
   ]
  },
  {
   "cell_type": "code",
   "execution_count": null,
   "id": "0ac2f926",
   "metadata": {},
   "outputs": [],
   "source": []
  },
  {
   "cell_type": "code",
   "execution_count": null,
   "id": "11e2c1a2",
   "metadata": {},
   "outputs": [],
   "source": []
  },
  {
   "cell_type": "code",
   "execution_count": null,
   "id": "0253e74a",
   "metadata": {},
   "outputs": [],
   "source": []
  },
  {
   "cell_type": "code",
   "execution_count": null,
   "id": "1775c6ba",
   "metadata": {},
   "outputs": [],
   "source": []
  },
  {
   "cell_type": "code",
   "execution_count": null,
   "id": "fe6c5e35",
   "metadata": {},
   "outputs": [],
   "source": []
  },
  {
   "cell_type": "code",
   "execution_count": null,
   "id": "c0845773",
   "metadata": {},
   "outputs": [],
   "source": []
  },
  {
   "cell_type": "code",
   "execution_count": null,
   "id": "771e09b5",
   "metadata": {},
   "outputs": [],
   "source": []
  },
  {
   "cell_type": "code",
   "execution_count": null,
   "id": "f017a331",
   "metadata": {},
   "outputs": [],
   "source": []
  }
 ],
 "metadata": {
  "kernelspec": {
   "display_name": "Python 3 (ipykernel)",
   "language": "python",
   "name": "python3"
  },
  "language_info": {
   "codemirror_mode": {
    "name": "ipython",
    "version": 3
   },
   "file_extension": ".py",
   "mimetype": "text/x-python",
   "name": "python",
   "nbconvert_exporter": "python",
   "pygments_lexer": "ipython3",
   "version": "3.9.12"
  }
 },
 "nbformat": 4,
 "nbformat_minor": 5
}
