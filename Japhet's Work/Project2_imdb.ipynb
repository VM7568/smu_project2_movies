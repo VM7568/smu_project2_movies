{
 "cells": [
  {
   "cell_type": "code",
   "execution_count": 1,
   "id": "bb8c11d6",
   "metadata": {},
   "outputs": [],
   "source": [
    "from splinter import Browser\n",
    "from bs4 import BeautifulSoup\n",
    "from webdriver_manager.chrome import ChromeDriverManager\n",
    "import pandas as pd\n",
    "import requests\n",
    "import matplotlib.pyplot as plt"
   ]
  },
  {
   "cell_type": "code",
   "execution_count": 2,
   "id": "e5cc89d5",
   "metadata": {},
   "outputs": [],
   "source": [
    "executable_path = {'executable_path': ChromeDriverManager().install()}\n",
    "browser = Browser('chrome', **executable_path, headless=False)"
   ]
  },
  {
   "cell_type": "code",
   "execution_count": 3,
   "id": "256e2b53",
   "metadata": {},
   "outputs": [],
   "source": [
    "url = 'https://www.imdb.com/chart/top?sort=ir,desc&mode=simple&page=1'\n",
    "browser.visit(url)"
   ]
  },
  {
   "cell_type": "code",
   "execution_count": 4,
   "id": "6202024b",
   "metadata": {},
   "outputs": [
    {
     "data": {
      "text/plain": [
       "bs4.BeautifulSoup"
      ]
     },
     "execution_count": 4,
     "metadata": {},
     "output_type": "execute_result"
    }
   ],
   "source": [
    "# Soupify the web page.\n",
    "\n",
    "html = browser.html\n",
    "imdb = BeautifulSoup(html)\n",
    "type(imdb)"
   ]
  },
  {
   "cell_type": "code",
   "execution_count": 5,
   "id": "d9a4422a",
   "metadata": {},
   "outputs": [
    {
     "data": {
      "text/plain": [
       "250"
      ]
     },
     "execution_count": 5,
     "metadata": {},
     "output_type": "execute_result"
    }
   ],
   "source": [
    "# Find the table list of top 250 movies.\n",
    "\n",
    "top_movies = imdb.find(\"table\", {\"data-caller-name\":\"chart-top250movie\"}).find(\"tbody\").find_all(\"tr\")\n",
    "len(top_movies)"
   ]
  },
  {
   "cell_type": "code",
   "execution_count": 6,
   "id": "69b6ef57",
   "metadata": {},
   "outputs": [
    {
     "data": {
      "text/plain": [
       "'tt0111161'"
      ]
     },
     "execution_count": 6,
     "metadata": {},
     "output_type": "execute_result"
    }
   ],
   "source": [
    "# Test scrape to find the Movie ID for the first movie in the Top 250 list.\n",
    "\n",
    "test = top_movies[0]\n",
    "movie_id1 = test.find(\"td\", {\"class\": \"watchlistColumn\"}).find(\"div\")[\"data-tconst\"]\n",
    "movie_id1"
   ]
  },
  {
   "cell_type": "code",
   "execution_count": 7,
   "id": "19351f18",
   "metadata": {},
   "outputs": [
    {
     "data": {
      "text/html": [
       "<div>\n",
       "<style scoped>\n",
       "    .dataframe tbody tr th:only-of-type {\n",
       "        vertical-align: middle;\n",
       "    }\n",
       "\n",
       "    .dataframe tbody tr th {\n",
       "        vertical-align: top;\n",
       "    }\n",
       "\n",
       "    .dataframe thead th {\n",
       "        text-align: right;\n",
       "    }\n",
       "</style>\n",
       "<table border=\"1\" class=\"dataframe\">\n",
       "  <thead>\n",
       "    <tr style=\"text-align: right;\">\n",
       "      <th></th>\n",
       "      <th>title</th>\n",
       "      <th>movie_id</th>\n",
       "    </tr>\n",
       "  </thead>\n",
       "  <tbody>\n",
       "    <tr>\n",
       "      <th>0</th>\n",
       "      <td>The Shawshank Redemption</td>\n",
       "      <td>tt0111161</td>\n",
       "    </tr>\n",
       "    <tr>\n",
       "      <th>1</th>\n",
       "      <td>The Godfather</td>\n",
       "      <td>tt0068646</td>\n",
       "    </tr>\n",
       "    <tr>\n",
       "      <th>2</th>\n",
       "      <td>The Dark Knight</td>\n",
       "      <td>tt0468569</td>\n",
       "    </tr>\n",
       "    <tr>\n",
       "      <th>3</th>\n",
       "      <td>The Godfather Part II</td>\n",
       "      <td>tt0071562</td>\n",
       "    </tr>\n",
       "    <tr>\n",
       "      <th>4</th>\n",
       "      <td>12 Angry Men</td>\n",
       "      <td>tt0050083</td>\n",
       "    </tr>\n",
       "    <tr>\n",
       "      <th>...</th>\n",
       "      <td>...</td>\n",
       "      <td>...</td>\n",
       "    </tr>\n",
       "    <tr>\n",
       "      <th>245</th>\n",
       "      <td>Everything Everywhere All at Once</td>\n",
       "      <td>tt6710474</td>\n",
       "    </tr>\n",
       "    <tr>\n",
       "      <th>246</th>\n",
       "      <td>The Iron Giant</td>\n",
       "      <td>tt0129167</td>\n",
       "    </tr>\n",
       "    <tr>\n",
       "      <th>247</th>\n",
       "      <td>The Help</td>\n",
       "      <td>tt1454029</td>\n",
       "    </tr>\n",
       "    <tr>\n",
       "      <th>248</th>\n",
       "      <td>Aladdin</td>\n",
       "      <td>tt0103639</td>\n",
       "    </tr>\n",
       "    <tr>\n",
       "      <th>249</th>\n",
       "      <td>Gandhi</td>\n",
       "      <td>tt0083987</td>\n",
       "    </tr>\n",
       "  </tbody>\n",
       "</table>\n",
       "<p>250 rows × 2 columns</p>\n",
       "</div>"
      ],
      "text/plain": [
       "                                 title   movie_id\n",
       "0             The Shawshank Redemption  tt0111161\n",
       "1                        The Godfather  tt0068646\n",
       "2                      The Dark Knight  tt0468569\n",
       "3                The Godfather Part II  tt0071562\n",
       "4                         12 Angry Men  tt0050083\n",
       "..                                 ...        ...\n",
       "245  Everything Everywhere All at Once  tt6710474\n",
       "246                     The Iron Giant  tt0129167\n",
       "247                           The Help  tt1454029\n",
       "248                            Aladdin  tt0103639\n",
       "249                             Gandhi  tt0083987\n",
       "\n",
       "[250 rows x 2 columns]"
      ]
     },
     "execution_count": 7,
     "metadata": {},
     "output_type": "execute_result"
    }
   ],
   "source": [
    "# Web scrapping loop to extract movie titles and corresponding movie_id.\n",
    "\n",
    "top_250_ids = []\n",
    "\n",
    "for movie in top_movies:\n",
    "    title = movie.find(\"td\", {\"class\": \"titleColumn\"}).find(\"a\").text\n",
    "    movie_id = movie.find(\"td\", {\"class\": \"watchlistColumn\"}).find(\"div\")[\"data-tconst\"]\n",
    "    \n",
    "    row = {}\n",
    "    row[\"title\"] = title\n",
    "    row[\"movie_id\"] = movie_id\n",
    "    top_250_ids.append(row)\n",
    "    \n",
    "movie_ids_df = pd.DataFrame(top_250_ids)\n",
    "movie_ids_df"
   ]
  },
  {
   "cell_type": "code",
   "execution_count": 8,
   "id": "1d43087e",
   "metadata": {},
   "outputs": [],
   "source": [
    "browser.quit()"
   ]
  },
  {
   "cell_type": "code",
   "execution_count": 11,
   "id": "2f4d9780",
   "metadata": {},
   "outputs": [],
   "source": [
    "# Using the OMDB API to acquire movie metadata. Initial test with The Shawshank Redemption movie ID.\n"
   ]
  },
  {
   "cell_type": "code",
   "execution_count": null,
   "id": "a4178d8e",
   "metadata": {},
   "outputs": [],
   "source": []
  }
 ],
 "metadata": {
  "kernelspec": {
   "display_name": "Python 3 (ipykernel)",
   "language": "python",
   "name": "python3"
  },
  "language_info": {
   "codemirror_mode": {
    "name": "ipython",
    "version": 3
   },
   "file_extension": ".py",
   "mimetype": "text/x-python",
   "name": "python",
   "nbconvert_exporter": "python",
   "pygments_lexer": "ipython3",
   "version": "3.9.12"
  }
 },
 "nbformat": 4,
 "nbformat_minor": 5
}
